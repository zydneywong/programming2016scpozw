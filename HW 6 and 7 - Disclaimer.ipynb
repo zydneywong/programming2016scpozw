{
 "cells": [
  {
   "cell_type": "code",
   "execution_count": 1,
   "metadata": {
    "collapsed": true
   },
   "outputs": [],
   "source": [
    "# Dear Tyler,\n",
    "\n",
    "# Sorry there is nothing more than just this (pathetic) little text saying that it has not been a good few weeks for me. \n",
    "# Along with the other subjects in this masters and the exams/problem sets/quizzes/essays that we have had in them, I am also\n",
    "# doing a bachelor in Polish at the Institute of Languages, which has also its fair share of essays/quizzes/presentations. So \n",
    "# I have struggled to find anytime to sleep properly, and unfortunately, programming has been relegated to a leisure good. "
   ]
  },
  {
   "cell_type": "code",
   "execution_count": 2,
   "metadata": {
    "collapsed": true
   },
   "outputs": [],
   "source": [
    "# I just wanted to be clear that I do enjoy the course, it is just at this juncture of the semester, juggling 2 degree courses\n",
    "# along with all the up and downs in health and form that come with it, it has not been a very fruitful weeek in terms of \n",
    "# programming. "
   ]
  },
  {
   "cell_type": "code",
   "execution_count": null,
   "metadata": {
    "collapsed": true
   },
   "outputs": [],
   "source": [
    "# Thanks for understanding though, and see you later\n",
    "# Zydney"
   ]
  }
 ],
 "metadata": {
  "kernelspec": {
   "display_name": "R",
   "language": "R",
   "name": "ir"
  },
  "language_info": {
   "codemirror_mode": "r",
   "file_extension": ".r",
   "mimetype": "text/x-r-source",
   "name": "R",
   "pygments_lexer": "r",
   "version": "3.1.3"
  }
 },
 "nbformat": 4,
 "nbformat_minor": 0
}
